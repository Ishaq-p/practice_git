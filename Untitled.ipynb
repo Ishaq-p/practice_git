{
 "cells": [
  {
   "cell_type": "markdown",
   "id": "d7202f27",
   "metadata": {},
   "source": [
    "# Tests"
   ]
  },
  {
   "cell_type": "code",
   "execution_count": 1,
   "id": "130e2c39",
   "metadata": {},
   "outputs": [],
   "source": [
    "import django"
   ]
  },
  {
   "cell_type": "code",
   "execution_count": 1,
   "id": "0f9fc248",
   "metadata": {},
   "outputs": [],
   "source": [
    "import mysql.connector\n"
   ]
  },
  {
   "cell_type": "code",
   "execution_count": 15,
   "id": "1967b8fa",
   "metadata": {},
   "outputs": [],
   "source": [
    "db = mysql.connector.connect(host=\"localhost\", user=\"root\", password=\"Khanzaman #1231\", database=\"User_info\")"
   ]
  },
  {
   "cell_type": "code",
   "execution_count": 3,
   "id": "f2f52d1d",
   "metadata": {},
   "outputs": [],
   "source": [
    "db_cursor = db.cursor()\n",
    "db_cursor.execute(\"SHOW TABLES\")"
   ]
  },
  {
   "cell_type": "code",
   "execution_count": 11,
   "id": "07194c3a",
   "metadata": {},
   "outputs": [],
   "source": [
    "db_cursor.execute(\"SHOW \")"
   ]
  },
  {
   "cell_type": "code",
   "execution_count": 4,
   "id": "55f76280",
   "metadata": {},
   "outputs": [
    {
     "name": "stdout",
     "output_type": "stream",
     "text": [
      "('User_infSQ',)\n"
     ]
    }
   ],
   "source": [
    "for i in db_cursor:\n",
    "    print(i)"
   ]
  },
  {
   "cell_type": "code",
   "execution_count": 18,
   "id": "4eaae478",
   "metadata": {},
   "outputs": [
    {
     "name": "stdout",
     "output_type": "stream",
     "text": [
      "1 record inserted.\n"
     ]
    }
   ],
   "source": [
    "val = (\"John\", \"Highway 21\", \"shaqinair@gmail.com\", \"shaq inair\")\n",
    "sql = \"INSERT INTO User_infSQ (user_name, Full_Name, email, password) VALUES (%s, %s, %s, %s);\"\n",
    "db_cursor.execute(sql, val)\n",
    "\n",
    "db.commit()\n",
    "\n",
    "print(db_cursor.rowcount, \"record inserted.\")"
   ]
  },
  {
   "cell_type": "code",
   "execution_count": null,
   "id": "81232995",
   "metadata": {},
   "outputs": [],
   "source": []
  },
  {
   "cell_type": "code",
   "execution_count": null,
   "id": "9a75c79c",
   "metadata": {},
   "outputs": [],
   "source": []
  },
  {
   "cell_type": "code",
   "execution_count": 30,
   "id": "acfb5d1d",
   "metadata": {},
   "outputs": [],
   "source": [
    "import numpy as np\n",
    "import re\n",
    "import pandas as pd\n",
    "from getpass import getpass\n",
    "import mysql.connector\n",
    "\n",
    "data_base = mysql.connector.connect(host=\"localhost\", user=\"root\", password=\"Khanzaman #1231\", database=\"User_info\")\n",
    "cursor = data_base.cursor()\n",
    "\n",
    "class SignUp:\n",
    "\n",
    "    def __init__(self,Full_Name,email,username,password, getting_updates=0):\n",
    "        self.username = username\n",
    "        self.password = password\n",
    "        self.Full_Name = Full_Name\n",
    "        self.email = email\n",
    "        self.getting_updates = getting_updates\n",
    "\n",
    "        #self.Full_Name = input(\"please enter your Full Name: \").strip()\n",
    "        #self.email = input(\"please enter your email: \").strip()\n",
    "        #self.username = input(\"please enter your username: \").strip()\n",
    "        #self.password = getpass(\"please enter your password: \")\n",
    "\n",
    "        # while self.getting_updates != \"0\" and self.getting_updates != \"1\":\n",
    "        #     self.getting_updates = input(\"would you like get notified with updates via email (0,1): \").strip()\n",
    "\n",
    "\n",
    "\n",
    "    def password_valid(self):\n",
    "        pass\n",
    "\n",
    "    def database(self):\n",
    "        INSERTION_query = (\"INSERT INTO User_info.User_infSQ (user_name, password, Full_Name, email, getting_updates) VALUES (%s, %s, %s, %s, %s)\")\n",
    "        Values = (self.username, self.password, self.Full_Name, self.email, self.getting_updates)\n",
    "        cursor.execute(INSERTION_query, Values)\n",
    "        data_base.commit()"
   ]
  },
  {
   "cell_type": "code",
   "execution_count": 31,
   "id": "791a11a1",
   "metadata": {},
   "outputs": [],
   "source": [
    "signup = SignUp(\"mohammad Ishaq\", \"ishaqyar@gmail.com\", 'moh_ishaq',\"chabook1231\")"
   ]
  },
  {
   "cell_type": "code",
   "execution_count": 32,
   "id": "86f51b89",
   "metadata": {},
   "outputs": [],
   "source": [
    "signup.database()"
   ]
  },
  {
   "cell_type": "code",
   "execution_count": null,
   "id": "81a263bb",
   "metadata": {},
   "outputs": [],
   "source": []
  },
  {
   "cell_type": "code",
   "execution_count": 1,
   "id": "a1fbb8be",
   "metadata": {},
   "outputs": [],
   "source": [
    "import string"
   ]
  },
  {
   "cell_type": "code",
   "execution_count": 44,
   "id": "a2cb2528",
   "metadata": {},
   "outputs": [],
   "source": [
    "def username_context_validity(username):\n",
    "        if \" \" in username:\n",
    "            return False, \"it's containing space(s)\"\n",
    "        \n",
    "        name_peices = [*username]\n",
    "        for i in name_peices:\n",
    "            if i not in string.ascii_letters:\n",
    "                return False, f\"the username contains somthing else other than ENG alphabets: {i}\"\n",
    "                \n",
    "        return True, \"the user name is made of plain Alphabets\""
   ]
  },
  {
   "cell_type": "code",
   "execution_count": 45,
   "id": "cefc64b9",
   "metadata": {
    "scrolled": true
   },
   "outputs": [
    {
     "data": {
      "text/plain": [
       "(True, 'the user name is made of plain Alphabets')"
      ]
     },
     "execution_count": 45,
     "metadata": {},
     "output_type": "execute_result"
    }
   ],
   "source": [
    "username_context_validity(\"shaqinair\")"
   ]
  },
  {
   "cell_type": "code",
   "execution_count": null,
   "id": "5fd2b417",
   "metadata": {},
   "outputs": [],
   "source": []
  },
  {
   "cell_type": "code",
   "execution_count": 66,
   "id": "26bfb4b3",
   "metadata": {},
   "outputs": [],
   "source": [
    "def email_context_validity(email):\n",
    "    valid_chars = string.ascii_letters+\"-_.\"+string.digits       \n",
    "    if \"@\" not in email:\n",
    "        return False, \"'@' is missing\"\n",
    "    \n",
    "    usrnam, domain = email.split(\"@\")\n",
    "    for i in usrnam:\n",
    "        if i not in valid_chars:\n",
    "            return False, f\"your email must not contain '{i}'\"\n",
    "        \n",
    "    if \".\" not in domain:\n",
    "        return False, \"the domain is not in valid format\"\n",
    "    \n",
    "    provider = domain.split(\".\")[0]\n",
    "    return (True, provider, usrnam, domain)"
   ]
  },
  {
   "cell_type": "code",
   "execution_count": 71,
   "id": "bc92794a",
   "metadata": {},
   "outputs": [
    {
     "data": {
      "text/plain": [
       "(True, 'gmail', 'sultan.ishaq.321', 'gmail.com')"
      ]
     },
     "execution_count": 71,
     "metadata": {},
     "output_type": "execute_result"
    }
   ],
   "source": [
    "email_context_validity(\"sultan.ishaq.321@gmail.com\")"
   ]
  },
  {
   "cell_type": "code",
   "execution_count": 67,
   "id": "c73589b5",
   "metadata": {},
   "outputs": [
    {
     "data": {
      "text/plain": [
       "'abcdefghijklmnopqrstuvwxyzABCDEFGHIJKLMNOPQRSTUVWXYZ-_.0123456789'"
      ]
     },
     "execution_count": 67,
     "metadata": {},
     "output_type": "execute_result"
    }
   ],
   "source": [
    "string.ascii_letters+\"-_.\"+string.digits"
   ]
  },
  {
   "cell_type": "code",
   "execution_count": null,
   "id": "6afef678",
   "metadata": {},
   "outputs": [],
   "source": []
  },
  {
   "cell_type": "code",
   "execution_count": null,
   "id": "f98a366e",
   "metadata": {},
   "outputs": [],
   "source": []
  },
  {
   "cell_type": "code",
   "execution_count": 4,
   "id": "9cff82d1",
   "metadata": {},
   "outputs": [],
   "source": [
    "import string\n",
    "\n",
    "def password_context_validity(pas):\n",
    "    valid_chars = string.ascii_letters+\"-_.\"+string.digits \n",
    "    \n",
    "    if ' ' in pas:\n",
    "        return False, \"the passcode must not contain spaces.\"\n",
    "    \n",
    "    for i in pas:\n",
    "        if i not in valid_chars:\n",
    "            return False, f\"the passcode must only contain alphabets, digits, and (- _ .), {i}\"\n",
    "        \n",
    "    return True, \"valid passcode.\""
   ]
  },
  {
   "cell_type": "code",
   "execution_count": 7,
   "id": "427eec8c",
   "metadata": {},
   "outputs": [
    {
     "data": {
      "text/plain": [
       "(True, 'valid passcode.')"
      ]
     },
     "execution_count": 7,
     "metadata": {},
     "output_type": "execute_result"
    }
   ],
   "source": [
    "password_context_validity(\"Khanzaman1231\")"
   ]
  },
  {
   "cell_type": "code",
   "execution_count": null,
   "id": "2fbc50d5",
   "metadata": {},
   "outputs": [],
   "source": []
  },
  {
   "cell_type": "code",
   "execution_count": null,
   "id": "8254e0c9",
   "metadata": {},
   "outputs": [],
   "source": []
  },
  {
   "cell_type": "code",
   "execution_count": 74,
   "id": "8ed95f78",
   "metadata": {},
   "outputs": [],
   "source": [
    "import mysql.connector\n",
    "database = mysql.connector.connect(host=\"localhost\", user=\"root\", password=\"Khanzaman #1231\", database=\"User_info\")\n",
    "cursoe = db.cursor()"
   ]
  },
  {
   "cell_type": "code",
   "execution_count": 80,
   "id": "dc7cba0d",
   "metadata": {},
   "outputs": [],
   "source": [
    "def email_uniqueness(email):\n",
    "    cursor = database.cursor()\n",
    "    cursor.execute(f\"SELECT user_name FROM User_info.User_infSQ WHERE email = '{email}';\")\n",
    "    lis = cursor.fetchall()\n",
    "    \n",
    "    try:\n",
    "        if len(lis):\n",
    "            k.extend(i)\n",
    "            return False, f\"the email exists, and it's with {lis[0]}\"\n",
    "    except Exception as e:\n",
    "        return False, f\"{e}\"\n",
    "    \n",
    "    return True, f\"your {email} email is unique.\""
   ]
  },
  {
   "cell_type": "code",
   "execution_count": 86,
   "id": "4a6c32ca",
   "metadata": {},
   "outputs": [],
   "source": [
    "email = \"aimal@xyz.com\""
   ]
  },
  {
   "cell_type": "code",
   "execution_count": 90,
   "id": "fc0732e8",
   "metadata": {},
   "outputs": [],
   "source": [
    "cursor = database.cursor()"
   ]
  },
  {
   "cell_type": "code",
   "execution_count": null,
   "id": "ec5b6a5b",
   "metadata": {},
   "outputs": [],
   "source": []
  },
  {
   "cell_type": "code",
   "execution_count": null,
   "id": "1b1d3e8e",
   "metadata": {},
   "outputs": [],
   "source": []
  },
  {
   "cell_type": "code",
   "execution_count": 93,
   "id": "72d1f1ff",
   "metadata": {},
   "outputs": [],
   "source": [
    "    def username_uniqueness(self):\n",
    "        cursor.execute(f\"SELECT user_name FROM User_info.User_infSQ WHERE Full_Name = '{self}';\")\n",
    "        lis = cursor.fetchall()\n",
    "        \n",
    "        try:\n",
    "            if len(lis):\n",
    "                return False, f\"the username exists, and it's with {lis[0]}\"\n",
    "        except Exception as e:\n",
    "            return False, f\"{e}\"\n",
    "        \n",
    "        return True, f\"the {self} username is unique.\""
   ]
  },
  {
   "cell_type": "code",
   "execution_count": 94,
   "id": "53e8d7b2",
   "metadata": {},
   "outputs": [
    {
     "data": {
      "text/plain": [
       "(True, 'the emirkhan username is unique.')"
      ]
     },
     "execution_count": 94,
     "metadata": {},
     "output_type": "execute_result"
    }
   ],
   "source": [
    "username_uniqueness(\"emirkhan\")"
   ]
  },
  {
   "cell_type": "code",
   "execution_count": 98,
   "id": "771d5bcb",
   "metadata": {},
   "outputs": [],
   "source": [
    "self=\"emirkhan\""
   ]
  },
  {
   "cell_type": "code",
   "execution_count": 102,
   "id": "51a5e3a8",
   "metadata": {},
   "outputs": [
    {
     "data": {
      "text/plain": [
       "6"
      ]
     },
     "execution_count": 102,
     "metadata": {},
     "output_type": "execute_result"
    }
   ],
   "source": [
    "cursor.execute(f\"SELECT Full_Name FROM User_info.User_infSQ WHERE user_name = '{self}';\")\n",
    "len([*cursor.fetchall()])"
   ]
  },
  {
   "cell_type": "code",
   "execution_count": null,
   "id": "d5d82c9f",
   "metadata": {},
   "outputs": [],
   "source": []
  },
  {
   "cell_type": "code",
   "execution_count": null,
   "id": "35909361",
   "metadata": {},
   "outputs": [],
   "source": []
  },
  {
   "cell_type": "code",
   "execution_count": 16,
   "id": "e01297d4",
   "metadata": {},
   "outputs": [],
   "source": [
    "cursor = db.cursor()"
   ]
  },
  {
   "cell_type": "code",
   "execution_count": 4,
   "id": "de82a6e9",
   "metadata": {},
   "outputs": [
    {
     "data": {
      "text/plain": [
       "[('yunuskhan',\n",
       "  'yunus khan',\n",
       "  'yunus@xyz.com',\n",
       "  'yunusdF_33',\n",
       "  '0',\n",
       "  datetime.datetime(2023, 4, 2, 23, 17, 46))]"
      ]
     },
     "execution_count": 4,
     "metadata": {},
     "output_type": "execute_result"
    }
   ],
   "source": [
    "cursor.execute(f\"SELECT * FROM User_info.User_infSQ WHERE user_name = 'yunuskhan';\")\n",
    "\n",
    "lis = cursor.fetchall()\n",
    "lis"
   ]
  },
  {
   "cell_type": "code",
   "execution_count": 11,
   "id": "fa6d69c9",
   "metadata": {},
   "outputs": [],
   "source": [
    "    def search_for_existence():\n",
    "        cursor.execute(f\"SELECT * FROM User_info.User_infSQ WHERE user_name = 'ishaqpaktin';\")\n",
    "        lis = cursor.fetchall()\n",
    "        if lis == []:\n",
    "            return False, \"the username is not found\"\n",
    "        else:\n",
    "            lis = lis[0]\n",
    "            self.Full_Name = lis[1]\n",
    "            self.email = lis[2]\n",
    "            self.getting_updates = lis[4]\n",
    "            self.created_at = lis[5]\n",
    "\n",
    "            if self.password == lis[3]:\n",
    "                return True, \"the password is correct\"\n",
    "            else:\n",
    "                return False, \"the password is incorrect\""
   ]
  },
  {
   "cell_type": "code",
   "execution_count": 12,
   "id": "04a9be79",
   "metadata": {},
   "outputs": [
    {
     "ename": "NameError",
     "evalue": "name 'self' is not defined",
     "output_type": "error",
     "traceback": [
      "\u001b[0;31m---------------------------------------------------------------------------\u001b[0m",
      "\u001b[0;31mNameError\u001b[0m                                 Traceback (most recent call last)",
      "\u001b[0;32m/tmp/ipykernel_34050/835055016.py\u001b[0m in \u001b[0;36m<module>\u001b[0;34m\u001b[0m\n\u001b[0;32m----> 1\u001b[0;31m \u001b[0msearch_for_existence\u001b[0m\u001b[0;34m(\u001b[0m\u001b[0;34m)\u001b[0m\u001b[0;34m\u001b[0m\u001b[0;34m\u001b[0m\u001b[0m\n\u001b[0m",
      "\u001b[0;32m/tmp/ipykernel_34050/2164525904.py\u001b[0m in \u001b[0;36msearch_for_existence\u001b[0;34m()\u001b[0m\n\u001b[1;32m      6\u001b[0m     \u001b[0;32melse\u001b[0m\u001b[0;34m:\u001b[0m\u001b[0;34m\u001b[0m\u001b[0;34m\u001b[0m\u001b[0m\n\u001b[1;32m      7\u001b[0m         \u001b[0mlis\u001b[0m \u001b[0;34m=\u001b[0m \u001b[0mlis\u001b[0m\u001b[0;34m[\u001b[0m\u001b[0;36m0\u001b[0m\u001b[0;34m]\u001b[0m\u001b[0;34m\u001b[0m\u001b[0;34m\u001b[0m\u001b[0m\n\u001b[0;32m----> 8\u001b[0;31m         \u001b[0mself\u001b[0m\u001b[0;34m.\u001b[0m\u001b[0mFull_Name\u001b[0m \u001b[0;34m=\u001b[0m \u001b[0mlis\u001b[0m\u001b[0;34m[\u001b[0m\u001b[0;36m1\u001b[0m\u001b[0;34m]\u001b[0m\u001b[0;34m\u001b[0m\u001b[0;34m\u001b[0m\u001b[0m\n\u001b[0m\u001b[1;32m      9\u001b[0m         \u001b[0mself\u001b[0m\u001b[0;34m.\u001b[0m\u001b[0memail\u001b[0m \u001b[0;34m=\u001b[0m \u001b[0mlis\u001b[0m\u001b[0;34m[\u001b[0m\u001b[0;36m2\u001b[0m\u001b[0;34m]\u001b[0m\u001b[0;34m\u001b[0m\u001b[0;34m\u001b[0m\u001b[0m\n\u001b[1;32m     10\u001b[0m         \u001b[0mself\u001b[0m\u001b[0;34m.\u001b[0m\u001b[0mgetting_updates\u001b[0m \u001b[0;34m=\u001b[0m \u001b[0mlis\u001b[0m\u001b[0;34m[\u001b[0m\u001b[0;36m4\u001b[0m\u001b[0;34m]\u001b[0m\u001b[0;34m\u001b[0m\u001b[0;34m\u001b[0m\u001b[0m\n",
      "\u001b[0;31mNameError\u001b[0m: name 'self' is not defined"
     ]
    }
   ],
   "source": [
    "search_for_existence()"
   ]
  },
  {
   "cell_type": "code",
   "execution_count": null,
   "id": "1b1b1b71",
   "metadata": {},
   "outputs": [],
   "source": []
  },
  {
   "cell_type": "code",
   "execution_count": null,
   "id": "2b976d25",
   "metadata": {},
   "outputs": [],
   "source": []
  },
  {
   "cell_type": "code",
   "execution_count": 13,
   "id": "bc4e5d2c",
   "metadata": {},
   "outputs": [
    {
     "name": "stdout",
     "output_type": "stream",
     "text": [
      "(True, 'the password is correct')\n",
      "ishaqpaktin, Khanman-_22, ishaq paktin yar, shaqiniar@gmail.com, 1, 2023-04-02 22:35:01\n"
     ]
    }
   ],
   "source": [
    "import numpy as np\n",
    "import re\n",
    "import pandas as pd\n",
    "from getpass import getpass\n",
    "import mysql.connector\n",
    "# import SignUp as SU\n",
    "\n",
    "data_base = mysql.connector.connect(host=\"localhost\", user=\"root\", password=\"Khanzaman #1231\", database=\"User_info\")\n",
    "cursor = data_base.cursor()\n",
    "\n",
    "class Login:\n",
    "\n",
    "    def __init__(self,username,password):\n",
    "        self.username = username\n",
    "        self.password = password\n",
    "\n",
    "        # self.username = input(\"please enter your username: \").strip() # strip for removing spaces\n",
    "        # self.password = getpass(\"please enter your password: \")\n",
    "\n",
    "\n",
    "    def search_for_existence(self):\n",
    "        cursor.execute(f\"SELECT * FROM User_info.User_infSQ WHERE user_name = '{self.username}';\")\n",
    "        lis = cursor.fetchall()\n",
    "        if lis == []:\n",
    "            return False, \"the username is not found\"\n",
    "        else:\n",
    "            lis = lis[0]\n",
    "            self.Full_Name = lis[1]\n",
    "            self.email = lis[2]\n",
    "            self.getting_updates = lis[4]\n",
    "            self.created_at = lis[5]\n",
    "\n",
    "            if self.password == lis[3]:\n",
    "                return True, \"the password is correct\"\n",
    "            else:\n",
    "                return False, \"the password is incorrect\"\n",
    "\n",
    "\n",
    "    def decryption(self):\n",
    "        pass\n",
    "\n",
    "    def __str__(self):\n",
    "        return f\"{self.username}, {self.password}, {self.Full_Name}, {self.email}, {self.getting_updates}, {self.created_at}\"\n",
    "\n",
    "\n",
    "# TESTS\n",
    "\n",
    "user = Login(\"ishaqpaktin\",\"Khanman-_22\")\n",
    "print(user.search_for_existence())\n",
    "print(user)"
   ]
  },
  {
   "cell_type": "code",
   "execution_count": null,
   "id": "9b8eec50",
   "metadata": {},
   "outputs": [],
   "source": []
  },
  {
   "cell_type": "code",
   "execution_count": 7,
   "id": "65011577",
   "metadata": {},
   "outputs": [],
   "source": [
    "import getpass"
   ]
  },
  {
   "cell_type": "code",
   "execution_count": 12,
   "id": "0a5af414",
   "metadata": {},
   "outputs": [],
   "source": [
    "username = \"ishaqpaktin\"\n",
    "def forgot_password():\n",
    "    if True:\n",
    "        new_password = getpass.getpass(\"enter your new password: \")\n",
    "        cursor.execute(f\"UPDATE User_infSQ SET password_ = '{new_password}' WHERE user_name = '{username}';\" )\n",
    "        cursor.execute(f\"SELECT password_ FROM User_infSQ WHERE user_name = '{username}';\")\n",
    "        print(cursor.fetchall())\n"
   ]
  },
  {
   "cell_type": "code",
   "execution_count": 13,
   "id": "d6a2fff2",
   "metadata": {},
   "outputs": [
    {
     "name": "stdout",
     "output_type": "stream",
     "text": [
      "enter your new password: ········\n",
      "[('kHANZAMA__99',)]\n"
     ]
    }
   ],
   "source": [
    "forgot_password()"
   ]
  },
  {
   "cell_type": "code",
   "execution_count": 20,
   "id": "5045aec5",
   "metadata": {},
   "outputs": [
    {
     "data": {
      "text/plain": [
       "True"
      ]
     },
     "execution_count": 20,
     "metadata": {},
     "output_type": "execute_result"
    }
   ],
   "source": [
    "cursor.close()"
   ]
  },
  {
   "cell_type": "code",
   "execution_count": 17,
   "id": "188a1f2a",
   "metadata": {},
   "outputs": [
    {
     "data": {
      "text/plain": [
       "[('ishaqpaktin',\n",
       "  'ishaq paktin yar',\n",
       "  'shaqiniar@gmail.com',\n",
       "  'Khanman-_22',\n",
       "  '1',\n",
       "  datetime.datetime(2023, 4, 2, 23, 17, 46))]"
      ]
     },
     "execution_count": 17,
     "metadata": {},
     "output_type": "execute_result"
    }
   ],
   "source": [
    "cursor.execute(\"SELECT * FROM User_infSQ WHERE user_name = 'ishaqpaktin';\")\n",
    "cursor.fetchall()"
   ]
  },
  {
   "cell_type": "code",
   "execution_count": null,
   "id": "865cd12f",
   "metadata": {},
   "outputs": [],
   "source": []
  },
  {
   "cell_type": "code",
   "execution_count": null,
   "id": "b0eea30c",
   "metadata": {},
   "outputs": [],
   "source": []
  },
  {
   "cell_type": "code",
   "execution_count": null,
   "id": "bed3117a",
   "metadata": {},
   "outputs": [],
   "source": []
  },
  {
   "cell_type": "code",
   "execution_count": 11,
   "id": "991d2739",
   "metadata": {},
   "outputs": [],
   "source": [
    "import pandas as pd\n",
    "import numpy as np"
   ]
  },
  {
   "cell_type": "code",
   "execution_count": 33,
   "id": "848d85f1",
   "metadata": {},
   "outputs": [],
   "source": [
    "import pymssql\n",
    "\n",
    "conn = pymssql.connect(\n",
    "    host=r'ishaqpaktin.mssql.somee.com',\n",
    "    user=r'shaqinair_SQLLogin_2',\n",
    "    password=r'ixwst4vtbl',\n",
    "    database='ishaqpaktin'\n",
    ")\n",
    "cursor = conn.cursor(as_dict=True)"
   ]
  },
  {
   "cell_type": "code",
   "execution_count": 34,
   "id": "1840d44b",
   "metadata": {},
   "outputs": [],
   "source": [
    "cursor.execute(\"SELECT * FROM khan;\")\n",
    "data = cursor.fetchall()\n",
    "data_df = pd.DataFrame(data)\n",
    "\n",
    "cursor.close()"
   ]
  },
  {
   "cell_type": "code",
   "execution_count": 35,
   "id": "617ccd07",
   "metadata": {},
   "outputs": [
    {
     "data": {
      "text/html": [
       "<div>\n",
       "<style scoped>\n",
       "    .dataframe tbody tr th:only-of-type {\n",
       "        vertical-align: middle;\n",
       "    }\n",
       "\n",
       "    .dataframe tbody tr th {\n",
       "        vertical-align: top;\n",
       "    }\n",
       "\n",
       "    .dataframe thead th {\n",
       "        text-align: right;\n",
       "    }\n",
       "</style>\n",
       "<table border=\"1\" class=\"dataframe\">\n",
       "  <thead>\n",
       "    <tr style=\"text-align: right;\">\n",
       "      <th></th>\n",
       "      <th>user_name</th>\n",
       "      <th>Full_Name</th>\n",
       "    </tr>\n",
       "  </thead>\n",
       "  <tbody>\n",
       "    <tr>\n",
       "      <th>0</th>\n",
       "      <td>322</td>\n",
       "      <td>321</td>\n",
       "    </tr>\n",
       "    <tr>\n",
       "      <th>1</th>\n",
       "      <td>1.0</td>\n",
       "      <td>1.0066004400293354</td>\n",
       "    </tr>\n",
       "    <tr>\n",
       "      <th>2</th>\n",
       "      <td>1.0132008800586705</td>\n",
       "      <td>1.0198013200880058</td>\n",
       "    </tr>\n",
       "    <tr>\n",
       "      <th>3</th>\n",
       "      <td>1.0264017601173412</td>\n",
       "      <td>1.0330022001466765</td>\n",
       "    </tr>\n",
       "    <tr>\n",
       "      <th>4</th>\n",
       "      <td>1.0396026401760117</td>\n",
       "      <td>1.046203080205347</td>\n",
       "    </tr>\n",
       "    <tr>\n",
       "      <th>...</th>\n",
       "      <td>...</td>\n",
       "      <td>...</td>\n",
       "    </tr>\n",
       "    <tr>\n",
       "      <th>1105</th>\n",
       "      <td>15.573771584772318</td>\n",
       "      <td>15.580372024801655</td>\n",
       "    </tr>\n",
       "    <tr>\n",
       "      <th>1106</th>\n",
       "      <td>15.586972464830989</td>\n",
       "      <td>15.593572904860325</td>\n",
       "    </tr>\n",
       "    <tr>\n",
       "      <th>1107</th>\n",
       "      <td>15.60017334488966</td>\n",
       "      <td>15.606773784918996</td>\n",
       "    </tr>\n",
       "    <tr>\n",
       "      <th>1108</th>\n",
       "      <td>15.61337422494833</td>\n",
       "      <td>15.619974664977667</td>\n",
       "    </tr>\n",
       "    <tr>\n",
       "      <th>1109</th>\n",
       "      <td>15.626575105007001</td>\n",
       "      <td>15.633175545036336</td>\n",
       "    </tr>\n",
       "  </tbody>\n",
       "</table>\n",
       "<p>1110 rows × 2 columns</p>\n",
       "</div>"
      ],
      "text/plain": [
       "               user_name           Full_Name\n",
       "0                    322                 321\n",
       "1                    1.0  1.0066004400293354\n",
       "2     1.0132008800586705  1.0198013200880058\n",
       "3     1.0264017601173412  1.0330022001466765\n",
       "4     1.0396026401760117   1.046203080205347\n",
       "...                  ...                 ...\n",
       "1105  15.573771584772318  15.580372024801655\n",
       "1106  15.586972464830989  15.593572904860325\n",
       "1107   15.60017334488966  15.606773784918996\n",
       "1108   15.61337422494833  15.619974664977667\n",
       "1109  15.626575105007001  15.633175545036336\n",
       "\n",
       "[1110 rows x 2 columns]"
      ]
     },
     "execution_count": 35,
     "metadata": {},
     "output_type": "execute_result"
    }
   ],
   "source": [
    "data_df"
   ]
  },
  {
   "cell_type": "code",
   "execution_count": null,
   "id": "2bd68a2f",
   "metadata": {},
   "outputs": [],
   "source": []
  },
  {
   "cell_type": "code",
   "execution_count": 28,
   "id": "cc7cd123",
   "metadata": {},
   "outputs": [],
   "source": [
    "def insert(username, Full_Name):\n",
    "    INSERTION_query = (\"INSERT INTO khan VALUES (%d, %d);\")\n",
    "    Values = (username, Full_Name)    \n",
    "    cursor.execute(INSERTION_query, Values)"
   ]
  },
  {
   "cell_type": "code",
   "execution_count": null,
   "id": "7714f4bf",
   "metadata": {},
   "outputs": [],
   "source": []
  },
  {
   "cell_type": "code",
   "execution_count": 12,
   "id": "2dc4cffc",
   "metadata": {},
   "outputs": [],
   "source": [
    "u=np.linspace(1,100, 15000)\n",
    "v=np.linspace(1,50, 15000)\n"
   ]
  },
  {
   "cell_type": "code",
   "execution_count": 13,
   "id": "92a20176",
   "metadata": {},
   "outputs": [
    {
     "data": {
      "text/plain": [
       "array([  1.        ,   1.00660044,   1.01320088, ...,  99.98679912,\n",
       "        99.99339956, 100.        ])"
      ]
     },
     "execution_count": 13,
     "metadata": {},
     "output_type": "execute_result"
    }
   ],
   "source": [
    "u"
   ]
  },
  {
   "cell_type": "code",
   "execution_count": 16,
   "id": "d732da66",
   "metadata": {},
   "outputs": [
    {
     "data": {
      "text/plain": [
       "array([ 1.        ,  1.00326688,  1.00653377, ..., 49.99346623,\n",
       "       49.99673312, 50.        ])"
      ]
     },
     "execution_count": 16,
     "metadata": {},
     "output_type": "execute_result"
    }
   ],
   "source": [
    "v"
   ]
  },
  {
   "cell_type": "code",
   "execution_count": 19,
   "id": "5cd01f21",
   "metadata": {},
   "outputs": [],
   "source": [
    "u_=u.reshape((7500,2))"
   ]
  },
  {
   "cell_type": "code",
   "execution_count": 31,
   "id": "d283327c",
   "metadata": {},
   "outputs": [
    {
     "ename": "KeyboardInterrupt",
     "evalue": "",
     "output_type": "error",
     "traceback": [
      "\u001b[0;31m---------------------------------------------------------------------------\u001b[0m",
      "\u001b[0;31mKeyboardInterrupt\u001b[0m                         Traceback (most recent call last)",
      "\u001b[0;32m/tmp/ipykernel_24625/3085813624.py\u001b[0m in \u001b[0;36m<module>\u001b[0;34m\u001b[0m\n\u001b[1;32m      1\u001b[0m \u001b[0;32mfor\u001b[0m \u001b[0mx\u001b[0m\u001b[0;34m,\u001b[0m\u001b[0my\u001b[0m \u001b[0;32min\u001b[0m \u001b[0mu_\u001b[0m\u001b[0;34m[\u001b[0m\u001b[0;34m:\u001b[0m\u001b[0;34m]\u001b[0m\u001b[0;34m[\u001b[0m\u001b[0;36m1110\u001b[0m\u001b[0;34m:\u001b[0m\u001b[0;34m]\u001b[0m\u001b[0;34m:\u001b[0m\u001b[0;34m\u001b[0m\u001b[0;34m\u001b[0m\u001b[0m\n\u001b[0;32m----> 2\u001b[0;31m     \u001b[0minsert\u001b[0m\u001b[0;34m(\u001b[0m\u001b[0mx\u001b[0m\u001b[0;34m,\u001b[0m\u001b[0my\u001b[0m\u001b[0;34m)\u001b[0m\u001b[0;34m\u001b[0m\u001b[0;34m\u001b[0m\u001b[0m\n\u001b[0m",
      "\u001b[0;32m/tmp/ipykernel_24625/3646151233.py\u001b[0m in \u001b[0;36minsert\u001b[0;34m(username, Full_Name)\u001b[0m\n\u001b[1;32m      2\u001b[0m     \u001b[0mINSERTION_query\u001b[0m \u001b[0;34m=\u001b[0m \u001b[0;34m(\u001b[0m\u001b[0;34m\"INSERT INTO khan VALUES (%d, %d);\"\u001b[0m\u001b[0;34m)\u001b[0m\u001b[0;34m\u001b[0m\u001b[0;34m\u001b[0m\u001b[0m\n\u001b[1;32m      3\u001b[0m     \u001b[0mValues\u001b[0m \u001b[0;34m=\u001b[0m \u001b[0;34m(\u001b[0m\u001b[0musername\u001b[0m\u001b[0;34m,\u001b[0m \u001b[0mFull_Name\u001b[0m\u001b[0;34m)\u001b[0m\u001b[0;34m\u001b[0m\u001b[0;34m\u001b[0m\u001b[0m\n\u001b[0;32m----> 4\u001b[0;31m     \u001b[0mcursor\u001b[0m\u001b[0;34m.\u001b[0m\u001b[0mexecute\u001b[0m\u001b[0;34m(\u001b[0m\u001b[0mINSERTION_query\u001b[0m\u001b[0;34m,\u001b[0m \u001b[0mValues\u001b[0m\u001b[0;34m)\u001b[0m\u001b[0;34m\u001b[0m\u001b[0;34m\u001b[0m\u001b[0m\n\u001b[0m",
      "\u001b[0;31mKeyboardInterrupt\u001b[0m: "
     ]
    }
   ],
   "source": [
    "for x,y in u_[:][1110:]:\n",
    "    insert(x,y)"
   ]
  },
  {
   "cell_type": "code",
   "execution_count": null,
   "id": "0fe5ba48",
   "metadata": {},
   "outputs": [],
   "source": []
  }
 ],
 "metadata": {
  "kernelspec": {
   "display_name": "Python 3 (ipykernel)",
   "language": "python",
   "name": "python3"
  },
  "language_info": {
   "codemirror_mode": {
    "name": "ipython",
    "version": 3
   },
   "file_extension": ".py",
   "mimetype": "text/x-python",
   "name": "python",
   "nbconvert_exporter": "python",
   "pygments_lexer": "ipython3",
   "version": "3.10.6"
  }
 },
 "nbformat": 4,
 "nbformat_minor": 5
}
