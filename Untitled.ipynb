{
 "cells": [
  {
   "cell_type": "markdown",
   "id": "d7202f27",
   "metadata": {},
   "source": [
    "# Tests"
   ]
  },
  {
   "cell_type": "code",
   "execution_count": 1,
   "id": "130e2c39",
   "metadata": {},
   "outputs": [],
   "source": [
    "import django"
   ]
  },
  {
   "cell_type": "code",
   "execution_count": 1,
   "id": "0f9fc248",
   "metadata": {},
   "outputs": [],
   "source": [
    "import mysql.connector"
   ]
  },
  {
   "cell_type": "code",
   "execution_count": 8,
   "id": "1967b8fa",
   "metadata": {},
   "outputs": [],
   "source": [
    "db = mysql.connector.connect(host=\"localhost\", user=\"root\", password=\"Khanzaman #1231\", database=\"User_info\")"
   ]
  },
  {
   "cell_type": "code",
   "execution_count": 9,
   "id": "f2f52d1d",
   "metadata": {},
   "outputs": [],
   "source": [
    "db_cursor = db.cursor()\n",
    "db_cursor.execute(\"SHOW TABLES\")"
   ]
  },
  {
   "cell_type": "code",
   "execution_count": 11,
   "id": "07194c3a",
   "metadata": {},
   "outputs": [],
   "source": [
    "db_cursor.execute(\"SHOW \")"
   ]
  },
  {
   "cell_type": "code",
   "execution_count": 10,
   "id": "55f76280",
   "metadata": {},
   "outputs": [
    {
     "name": "stdout",
     "output_type": "stream",
     "text": [
      "('User_infSQ',)\n"
     ]
    }
   ],
   "source": [
    "for i in db_cursor:\n",
    "    print(i)"
   ]
  },
  {
   "cell_type": "code",
   "execution_count": 18,
   "id": "4eaae478",
   "metadata": {},
   "outputs": [
    {
     "name": "stdout",
     "output_type": "stream",
     "text": [
      "1 record inserted.\n"
     ]
    }
   ],
   "source": [
    "val = (\"John\", \"Highway 21\", \"shaqinair@gmail.com\", \"shaq inair\")\n",
    "sql = \"INSERT INTO User_infSQ (user_name, Full_Name, email, password) VALUES (%s, %s, %s, %s);\"\n",
    "db_cursor.execute(sql, val)\n",
    "\n",
    "db.commit()\n",
    "\n",
    "print(db_cursor.rowcount, \"record inserted.\")"
   ]
  },
  {
   "cell_type": "code",
   "execution_count": null,
   "id": "81232995",
   "metadata": {},
   "outputs": [],
   "source": []
  },
  {
   "cell_type": "code",
   "execution_count": null,
   "id": "9a75c79c",
   "metadata": {},
   "outputs": [],
   "source": []
  },
  {
   "cell_type": "code",
   "execution_count": 30,
   "id": "acfb5d1d",
   "metadata": {},
   "outputs": [],
   "source": [
    "import numpy as np\n",
    "import re\n",
    "import pandas as pd\n",
    "from getpass import getpass\n",
    "import mysql.connector\n",
    "\n",
    "data_base = mysql.connector.connect(host=\"localhost\", user=\"root\", password=\"Khanzaman #1231\", database=\"User_info\")\n",
    "cursor = data_base.cursor()\n",
    "\n",
    "class SignUp:\n",
    "\n",
    "    def __init__(self,Full_Name,email,username,password, getting_updates=0):\n",
    "        self.username = username\n",
    "        self.password = password\n",
    "        self.Full_Name = Full_Name\n",
    "        self.email = email\n",
    "        self.getting_updates = getting_updates\n",
    "\n",
    "        #self.Full_Name = input(\"please enter your Full Name: \").strip()\n",
    "        #self.email = input(\"please enter your email: \").strip()\n",
    "        #self.username = input(\"please enter your username: \").strip()\n",
    "        #self.password = getpass(\"please enter your password: \")\n",
    "\n",
    "        # while self.getting_updates != \"0\" and self.getting_updates != \"1\":\n",
    "        #     self.getting_updates = input(\"would you like get notified with updates via email (0,1): \").strip()\n",
    "\n",
    "\n",
    "\n",
    "    def password_valid(self):\n",
    "        pass\n",
    "\n",
    "    def database(self):\n",
    "        INSERTION_query = (\"INSERT INTO User_info.User_infSQ (user_name, password, Full_Name, email, getting_updates) VALUES (%s, %s, %s, %s, %s)\")\n",
    "        Values = (self.username, self.password, self.Full_Name, self.email, self.getting_updates)\n",
    "        cursor.execute(INSERTION_query, Values)\n",
    "        data_base.commit()"
   ]
  },
  {
   "cell_type": "code",
   "execution_count": 31,
   "id": "791a11a1",
   "metadata": {},
   "outputs": [],
   "source": [
    "signup = SignUp(\"mohammad Ishaq\", \"ishaqyar@gmail.com\", 'moh_ishaq',\"chabook1231\")"
   ]
  },
  {
   "cell_type": "code",
   "execution_count": 32,
   "id": "86f51b89",
   "metadata": {},
   "outputs": [],
   "source": [
    "signup.database()"
   ]
  },
  {
   "cell_type": "code",
   "execution_count": null,
   "id": "81a263bb",
   "metadata": {},
   "outputs": [],
   "source": []
  },
  {
   "cell_type": "code",
   "execution_count": 1,
   "id": "a1fbb8be",
   "metadata": {},
   "outputs": [],
   "source": [
    "import string"
   ]
  },
  {
   "cell_type": "code",
   "execution_count": 44,
   "id": "a2cb2528",
   "metadata": {},
   "outputs": [],
   "source": [
    "def username_context_validity(username):\n",
    "        if \" \" in username:\n",
    "            return False, \"it's containing space(s)\"\n",
    "        \n",
    "        name_peices = [*username]\n",
    "        for i in name_peices:\n",
    "            if i not in string.ascii_letters:\n",
    "                return False, f\"the username contains somthing else other than ENG alphabets: {i}\"\n",
    "                \n",
    "        return True, \"the user name is made of plain Alphabets\""
   ]
  },
  {
   "cell_type": "code",
   "execution_count": 45,
   "id": "cefc64b9",
   "metadata": {
    "scrolled": true
   },
   "outputs": [
    {
     "data": {
      "text/plain": [
       "(True, 'the user name is made of plain Alphabets')"
      ]
     },
     "execution_count": 45,
     "metadata": {},
     "output_type": "execute_result"
    }
   ],
   "source": [
    "username_context_validity(\"shaqinair\")"
   ]
  },
  {
   "cell_type": "code",
   "execution_count": null,
   "id": "173c39f9",
   "metadata": {},
   "outputs": [],
   "source": []
  },
  {
   "cell_type": "code",
   "execution_count": 66,
   "id": "938d5681",
   "metadata": {},
   "outputs": [],
   "source": [
    "def email_context_validity(email):\n",
    "    valid_chars = string.ascii_letters+\"-_.\"+string.digits       \n",
    "    if \"@\" not in email:\n",
    "        return False, \"'@' is missing\"\n",
    "    \n",
    "    usrnam, domain = email.split(\"@\")\n",
    "    for i in usrnam:\n",
    "        if i not in valid_chars:\n",
    "            return False, f\"your email must not contain '{i}'\"\n",
    "        \n",
    "    if \".\" not in domain:\n",
    "        return False, \"the domain is not in valid format\"\n",
    "    \n",
    "    provider = domain.split(\".\")[0]\n",
    "    return (True, provider, usrnam, domain)"
   ]
  },
  {
   "cell_type": "code",
   "execution_count": 71,
   "id": "083bf583",
   "metadata": {},
   "outputs": [
    {
     "data": {
      "text/plain": [
       "(True, 'gmail', 'sultan.ishaq.321', 'gmail.com')"
      ]
     },
     "execution_count": 71,
     "metadata": {},
     "output_type": "execute_result"
    }
   ],
   "source": [
    "email_context_validity(\"sultan.ishaq.321@gmail.com\")"
   ]
  },
  {
   "cell_type": "code",
   "execution_count": 67,
   "id": "a9ffebc4",
   "metadata": {},
   "outputs": [
    {
     "data": {
      "text/plain": [
       "'abcdefghijklmnopqrstuvwxyzABCDEFGHIJKLMNOPQRSTUVWXYZ-_.0123456789'"
      ]
     },
     "execution_count": 67,
     "metadata": {},
     "output_type": "execute_result"
    }
   ],
   "source": [
    "string.ascii_letters+\"-_.\"+string.digits"
   ]
  },
  {
   "cell_type": "code",
   "execution_count": null,
   "id": "80f9cfb8",
   "metadata": {},
   "outputs": [],
   "source": []
  }
 ],
 "metadata": {
  "kernelspec": {
   "display_name": "Python 3 (ipykernel)",
   "language": "python",
   "name": "python3"
  },
  "language_info": {
   "codemirror_mode": {
    "name": "ipython",
    "version": 3
   },
   "file_extension": ".py",
   "mimetype": "text/x-python",
   "name": "python",
   "nbconvert_exporter": "python",
   "pygments_lexer": "ipython3",
   "version": "3.10.6"
  }
 },
 "nbformat": 4,
 "nbformat_minor": 5
}
