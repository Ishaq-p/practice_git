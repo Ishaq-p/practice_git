{
 "cells": [
  {
   "cell_type": "markdown",
   "id": "9db3a060",
   "metadata": {},
   "source": [
    "# Tests"
   ]
  },
  {
   "cell_type": "code",
   "execution_count": 1,
   "id": "7cc6732a",
   "metadata": {},
   "outputs": [],
   "source": [
    "import django"
   ]
  },
  {
   "cell_type": "code",
   "execution_count": 1,
   "id": "26718c02",
   "metadata": {},
   "outputs": [],
   "source": [
    "import mysql.connector"
   ]
  },
  {
   "cell_type": "code",
   "execution_count": 8,
   "id": "19809b6e",
   "metadata": {},
   "outputs": [],
   "source": [
    "db = mysql.connector.connect(host=\"localhost\", user=\"root\", password=\"Khanzaman #1231\", database=\"User_info\")"
   ]
  },
  {
   "cell_type": "code",
   "execution_count": 9,
   "id": "faadcb11",
   "metadata": {},
   "outputs": [],
   "source": [
    "db_cursor = db.cursor()\n",
    "db_cursor.execute(\"SHOW TABLES\")"
   ]
  },
  {
   "cell_type": "code",
   "execution_count": 11,
   "id": "670dc05c",
   "metadata": {},
   "outputs": [],
   "source": [
    "db_cursor.execute(\"SHOW \")"
   ]
  },
  {
   "cell_type": "code",
   "execution_count": 10,
   "id": "1292ff59",
   "metadata": {},
   "outputs": [
    {
     "name": "stdout",
     "output_type": "stream",
     "text": [
      "('User_infSQ',)\n"
     ]
    }
   ],
   "source": [
    "for i in db_cursor:\n",
    "    print(i)"
   ]
  },
  {
   "cell_type": "code",
   "execution_count": 18,
   "id": "782b451d",
   "metadata": {},
   "outputs": [
    {
     "name": "stdout",
     "output_type": "stream",
     "text": [
      "1 record inserted.\n"
     ]
    }
   ],
   "source": [
    "val = (\"John\", \"Highway 21\", \"shaqinair@gmail.com\", \"shaq inair\")\n",
    "sql = \"INSERT INTO User_infSQ (user_name, Full_Name, email, password) VALUES (%s, %s, %s, %s);\"\n",
    "db_cursor.execute(sql, val)\n",
    "\n",
    "db.commit()\n",
    "\n",
    "print(db_cursor.rowcount, \"record inserted.\")"
   ]
  },
  {
   "cell_type": "code",
   "execution_count": null,
   "id": "c0fede1d",
   "metadata": {},
   "outputs": [],
   "source": []
  },
  {
   "cell_type": "code",
   "execution_count": null,
   "id": "f3deeed8",
   "metadata": {},
   "outputs": [],
   "source": []
  },
  {
   "cell_type": "code",
   "execution_count": 30,
   "id": "3f42f638",
   "metadata": {},
   "outputs": [],
   "source": [
    "import numpy as np\n",
    "import re\n",
    "import pandas as pd\n",
    "from getpass import getpass\n",
    "import mysql.connector\n",
    "\n",
    "data_base = mysql.connector.connect(host=\"localhost\", user=\"root\", password=\"Khanzaman #1231\", database=\"User_info\")\n",
    "cursor = data_base.cursor()\n",
    "\n",
    "class SignUp:\n",
    "\n",
    "    def __init__(self,Full_Name,email,username,password, getting_updates=0):\n",
    "        self.username = username\n",
    "        self.password = password\n",
    "        self.Full_Name = Full_Name\n",
    "        self.email = email\n",
    "        self.getting_updates = getting_updates\n",
    "\n",
    "        #self.Full_Name = input(\"please enter your Full Name: \").strip()\n",
    "        #self.email = input(\"please enter your email: \").strip()\n",
    "        #self.username = input(\"please enter your username: \").strip()\n",
    "        #self.password = getpass(\"please enter your password: \")\n",
    "\n",
    "        # while self.getting_updates != \"0\" and self.getting_updates != \"1\":\n",
    "        #     self.getting_updates = input(\"would you like get notified with updates via email (0,1): \").strip()\n",
    "\n",
    "\n",
    "\n",
    "    def password_valid(self):\n",
    "        pass\n",
    "\n",
    "    def database(self):\n",
    "        INSERTION_query = (\"INSERT INTO User_info.User_infSQ (user_name, password, Full_Name, email, getting_updates) VALUES (%s, %s, %s, %s, %s)\")\n",
    "        Values = (self.username, self.password, self.Full_Name, self.email, self.getting_updates)\n",
    "        cursor.execute(INSERTION_query, Values)\n",
    "        data_base.commit()"
   ]
  },
  {
   "cell_type": "code",
   "execution_count": 31,
   "id": "47b16621",
   "metadata": {},
   "outputs": [],
   "source": [
    "signup = SignUp(\"mohammad Ishaq\", \"ishaqyar@gmail.com\", 'moh_ishaq',\"chabook1231\")"
   ]
  },
  {
   "cell_type": "code",
   "execution_count": 32,
   "id": "3757db18",
   "metadata": {},
   "outputs": [],
   "source": [
    "signup.database()"
   ]
  },
  {
   "cell_type": "code",
   "execution_count": null,
   "id": "83be6d50",
   "metadata": {},
   "outputs": [],
   "source": []
  }
 ],
 "metadata": {
  "kernelspec": {
   "display_name": "Python 3 (ipykernel)",
   "language": "python",
   "name": "python3"
  },
  "language_info": {
   "codemirror_mode": {
    "name": "ipython",
    "version": 3
   },
   "file_extension": ".py",
   "mimetype": "text/x-python",
   "name": "python",
   "nbconvert_exporter": "python",
   "pygments_lexer": "ipython3",
   "version": "3.10.6"
  }
 },
 "nbformat": 4,
 "nbformat_minor": 5
}
